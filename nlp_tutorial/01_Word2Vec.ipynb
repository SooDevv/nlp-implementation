{
 "cells": [
  {
   "cell_type": "markdown",
   "metadata": {},
   "source": [
    "## Skip-gram "
   ]
  },
  {
   "cell_type": "code",
   "execution_count": 11,
   "metadata": {},
   "outputs": [],
   "source": [
    "import numpy as np\n",
    "import torch\n",
    "import torch.nn as nn\n",
    "import torch.optim as optim\n",
    "from torch.autograd import Variable\n",
    "import matplotlib.pyplot as plt\n",
    "from tqdm import tqdm\n",
    "\n",
    "dtype = torch.FloatTensor"
   ]
  },
  {
   "cell_type": "code",
   "execution_count": 2,
   "metadata": {},
   "outputs": [],
   "source": [
    "sentences = [\"i like dog\", \"i like cat\", \"i like animal\",\n",
    "             \"dog cat animal\", \"apple cat dog like\", \"dog fish milk like\",\n",
    "             \"dog cat eyes like\", \"i like apple\", \"apple i hate\",\n",
    "             \"apple i movie book music like\", \"cat dog hate\", \"cat dog like\"]"
   ]
  },
  {
   "cell_type": "code",
   "execution_count": 4,
   "metadata": {},
   "outputs": [],
   "source": [
    "word_sequence = \" \".join(sentences).split()"
   ]
  },
  {
   "cell_type": "code",
   "execution_count": 7,
   "metadata": {},
   "outputs": [],
   "source": [
    "word_list = \" \".join(sentences).split()\n",
    "word_list = list(set(word_list))\n",
    "word_dict = {w: i for i, w in enumerate(word_list)}"
   ]
  },
  {
   "cell_type": "code",
   "execution_count": 9,
   "metadata": {},
   "outputs": [
    {
     "name": "stdout",
     "output_type": "stream",
     "text": [
      "voc size : 13\n"
     ]
    }
   ],
   "source": [
    "# Word2Vec Parameter\n",
    "batch_size = 20\n",
    "embedding_size = 2\n",
    "voc_size = len(word_list)\n",
    "print('voc size :', voc_size)"
   ]
  },
  {
   "cell_type": "code",
   "execution_count": 10,
   "metadata": {},
   "outputs": [],
   "source": [
    "def random_batch(data, size):\n",
    "    random_inputs = []\n",
    "    random_labels = []\n",
    "    random_index = np.random.choice(range(len(data)), size, replace=False)\n",
    "    \n",
    "    for i in random_index:\n",
    "        random_inputs.append(np.eye(voc_size)[data[i][0]]) # target\n",
    "        random_labels.append(data[i][1])\n",
    "    \n",
    "    return random_inputs, random_labels"
   ]
  },
  {
   "cell_type": "code",
   "execution_count": 16,
   "metadata": {},
   "outputs": [
    {
     "name": "stderr",
     "output_type": "stream",
     "text": [
      "100%|██████████| 40/40 [00:00<00:00, 178481.02it/s]\n"
     ]
    }
   ],
   "source": [
    "# make skip_gram of on size window\n",
    "skip_grams = []\n",
    "for i in tqdm(range(1, len(word_sequence) - 1)):\n",
    "    target = word_dict[word_sequence[i]]\n",
    "    contexts = [word_dict[word_sequence[i-1]], word_dict[word_sequence[i+1]]]\n",
    "    \n",
    "    for w in contexts:\n",
    "        skip_grams.append([target, w])"
   ]
  },
  {
   "cell_type": "code",
   "execution_count": 18,
   "metadata": {},
   "outputs": [
    {
     "data": {
      "text/plain": [
       "[[12, 2], [12, 3], [3, 12], [3, 2], [2, 3]]"
      ]
     },
     "execution_count": 18,
     "metadata": {},
     "output_type": "execute_result"
    }
   ],
   "source": [
    "skip_grams[:5]"
   ]
  },
  {
   "cell_type": "code",
   "execution_count": 19,
   "metadata": {},
   "outputs": [
    {
     "data": {
      "text/plain": [
       "['i', 'like', 'dog', 'i', 'like']"
      ]
     },
     "execution_count": 19,
     "metadata": {},
     "output_type": "execute_result"
    }
   ],
   "source": [
    "word_sequence[:5]"
   ]
  },
  {
   "cell_type": "code",
   "execution_count": 21,
   "metadata": {},
   "outputs": [
    {
     "name": "stdout",
     "output_type": "stream",
     "text": [
      "12\n",
      "2\n",
      "3\n"
     ]
    }
   ],
   "source": [
    "print(word_dict['like'])\n",
    "print(word_dict['i'])\n",
    "print(word_dict['dog'])"
   ]
  },
  {
   "cell_type": "code",
   "execution_count": 25,
   "metadata": {},
   "outputs": [],
   "source": [
    "# model \n",
    "class Word2Vec(nn.Module):\n",
    "    def __init__(self):\n",
    "        super(Word2Vec, self).__init__()\n",
    "        \n",
    "        # W and W.t is not Transpose relationship\n",
    "        self.W = nn.Parameter(-2 * torch.rand(voc_size, embedding_size) + 1).type(dtype)\n",
    "        self.WT = nn.Parameter(-2 * torch.rand(embedding_size, voc_size) + 1).type(dtype)\n",
    "        \n",
    "    def forward(self, X):\n",
    "        # X : [batch_size, voc_size]\n",
    "        hidden_layer = torch.matmul(X, self.W) # batch_size, embedding_size\n",
    "        output_layer = torch.matmul(hidden_layer, self.WT) # batch_size, voc_size\n",
    "        return output_layer"
   ]
  },
  {
   "cell_type": "code",
   "execution_count": 26,
   "metadata": {},
   "outputs": [],
   "source": [
    "model = Word2Vec()\n",
    "\n",
    "criterion = nn.CrossEntropyLoss()\n",
    "optimizer = optim.Adam(model.parameters(), lr=0.001)"
   ]
  },
  {
   "cell_type": "code",
   "execution_count": 37,
   "metadata": {},
   "outputs": [
    {
     "name": "stdout",
     "output_type": "stream",
     "text": [
      "[Epoch]: 0500 [Loss]: 1.872254\n",
      "[Epoch]: 1000 [Loss]: 1.699118\n",
      "[Epoch]: 1500 [Loss]: 1.664044\n",
      "[Epoch]: 2000 [Loss]: 1.589988\n",
      "[Epoch]: 2500 [Loss]: 1.673327\n",
      "[Epoch]: 3000 [Loss]: 1.677439\n"
     ]
    }
   ],
   "source": [
    "# Tranining\n",
    "\n",
    "for epoch in range(3000):\n",
    "    input_batch, target_batch = random_batch(skip_grams, batch_size)\n",
    "    \n",
    "    input_batch = Variable(torch.Tensor(input_batch))\n",
    "    target_batch = Variable(torch.LongTensor(target_batch))\n",
    "    \n",
    "    optimizer.zero_grad()\n",
    "    output = model(input_batch)\n",
    "    \n",
    "    # output: [batch_size, voc_size], target_batch : [batch_size] (LongTensor, not noe-hot)\n",
    "    loss = criterion(output, target_batch)\n",
    "    if (epoch +1) % 500 == 0:\n",
    "        print('[Epoch]: ' '%04d' % (epoch + 1), '[Loss]:', '{:.6f}'.format(loss))\n",
    "    \n",
    "    loss.backward()\n",
    "    optimizer.step()"
   ]
  },
  {
   "cell_type": "code",
   "execution_count": 38,
   "metadata": {},
   "outputs": [
    {
     "data": {
      "image/png": "[encoded data removed]",
      "text/plain": [
       "<Figure size 432x288 with 1 Axes>"
      ]
     },
     "metadata": {
      "needs_background": "light"
     },
     "output_type": "display_data"
    }
   ],
   "source": [
    "for i, label in enumerate(word_list):\n",
    "    W, WT = model.parameters()\n",
    "    x, y = float(W[i][0]), float(W[i][1])\n",
    "    plt.scatter(x, y)\n",
    "    plt.annotate(label, xy=(x, y), xytext=(5, 2), textcoords='offset points', ha='right', va='bottom')\n",
    "    \n",
    "plt.show()"
   ]
  },
  {
   "cell_type": "code",
   "execution_count": null,
   "metadata": {},
   "outputs": [],
   "source": []
  }
 ],
 "metadata": {
  "kernelspec": {
   "display_name": "Python 3",
   "language": "python",
   "name": "python3"
  },
  "language_info": {
   "codemirror_mode": {
    "name": "ipython",
    "version": 3
   },
   "file_extension": ".py",
   "mimetype": "text/x-python",
   "name": "python",
   "nbconvert_exporter": "python",
   "pygments_lexer": "ipython3",
   "version": "3.6.8"
  }
 },
 "nbformat": 4,
 "nbformat_minor": 2
}

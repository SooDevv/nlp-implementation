{
 "cells": [
  {
   "cell_type": "markdown",
   "metadata": {},
   "source": [
    "# Evalute sequence Models\n",
    "- but some problems \n",
    "  + some entity types occur more then otehrs \n",
    "  + ebtities can span multiple tokens\n",
    "- solution is...\n",
    "  + right metric\n",
    "  + aggregating the token-level predictions in the rith way "
   ]
  },
  {
   "cell_type": "code",
   "execution_count": 1,
   "metadata": {},
   "outputs": [],
   "source": [
    "sentence = [\"Hawking\", \"was\", \"a\", \"Fellow\", \"of\", \"the\", \"Royal\", \"Society\", \",\", \"a\", \"lifetime\", \"member\",\n",
    "            \"of\", \"the\", \"Pontifical\", \"Academy\", \"of\", \"Sciences\", \",\", \"and\", \"a\", \"recipient\", \"of\",\n",
    "            \"the\", \"Presidential\", \"Medal\", \"of\", \"Freedom\", \",\", \"the\", \"highest\", \"civilian\", \"award\",\n",
    "            \"in\", \"the\", \"United\", \"States\", \".\"]"
   ]
  },
  {
   "cell_type": "code",
   "execution_count": 2,
   "metadata": {},
   "outputs": [],
   "source": [
    "# person-per, org-organization, geo-geopolitical unit, o-no entity\n",
    "labels = [\"per\", \"O\", \"O\", \"O\", \"O\", \"O\", \"org\", \"org\", \"O\", \"O\", \"O\", \"O\", \"O\", \"O\", \"org\",\n",
    "          \"org\", \"org\", \"org\", \"O\", \"O\", \"O\", \"O\", \"O\", \"O\", \"O\", \"O\", \"O\", \"O\", \"O\", \"O\",\n",
    "          \"O\", \"O\", \"O\", \"O\", \"O\", \"geo\", \"geo\", \"O\"]"
   ]
  },
  {
   "cell_type": "code",
   "execution_count": 4,
   "metadata": {},
   "outputs": [],
   "source": [
    "# BIO tagging\n",
    "labels_bio = [\"B-per\", \"O\", \"O\", \"O\", \"O\", \"O\", \"B-org\", \"I-org\", \"O\", \"O\", \"O\", \"O\", \"O\", \"O\",\n",
    "              \"B-org\", \"I-org\", \"I-org\", \"I-org\", \"O\", \"O\", \"O\", \"O\", \"O\", \"O\", \"O\", \"O\", \"O\",\n",
    "              \"O\", \"O\", \"O\", \"O\", \"O\", \"O\", \"O\", \"O\", \"B-geo\", \"I-geo\", \"O\"]"
   ]
  },
  {
   "cell_type": "markdown",
   "metadata": {},
   "source": [
    "## The right metric "
   ]
  },
  {
   "cell_type": "code",
   "execution_count": 5,
   "metadata": {},
   "outputs": [
    {
     "name": "stdout",
     "output_type": "stream",
     "text": [
      "['O', 'O', 'O', 'O', 'O', 'O', 'O', 'O', 'O', 'O', 'O', 'O', 'O', 'O', 'O', 'O', 'O', 'O', 'O', 'O', 'O', 'O', 'O', 'O', 'O', 'O', 'O', 'O', 'O', 'O', 'O', 'O', 'O', 'O', 'O', 'O', 'O', 'O']\n"
     ]
    }
   ],
   "source": [
    "pred_O = [\"O\" for _ in labels_bio]; print(pred_O)"
   ]
  },
  {
   "cell_type": "code",
   "execution_count": 6,
   "metadata": {},
   "outputs": [
    {
     "name": "stdout",
     "output_type": "stream",
     "text": [
      "Accuracy: 76.3%\n"
     ]
    }
   ],
   "source": [
    "correct_cnt = 0\n",
    "for t, p in zip(labels_bio, pred_O):\n",
    "    if t == p:\n",
    "        correct_cnt +=1\n",
    "accuracy = correct_cnt/len(labels_bio)\n",
    "print(\"Accuracy: {:.1%}\".format(accuracy))"
   ]
  },
  {
   "cell_type": "code",
   "execution_count": 9,
   "metadata": {},
   "outputs": [],
   "source": [
    "from seqeval.metrics import precision_score, recall_score, f1_score, classification_report"
   ]
  },
  {
   "cell_type": "code",
   "execution_count": 10,
   "metadata": {},
   "outputs": [
    {
     "name": "stdout",
     "output_type": "stream",
     "text": [
      "           precision    recall  f1-score   support\n",
      "\n",
      "      org       0.00      0.00      0.00         2\n",
      "      geo       0.00      0.00      0.00         1\n",
      "      per       0.00      0.00      0.00         1\n",
      "\n",
      "micro avg       0.00      0.00      0.00         4\n",
      "macro avg       0.00      0.00      0.00         4\n",
      "\n"
     ]
    }
   ],
   "source": [
    "print(classification_report(labels_bio, pred_O))"
   ]
  },
  {
   "cell_type": "code",
   "execution_count": 11,
   "metadata": {},
   "outputs": [],
   "source": [
    "pred_smarter = [\"B-per\", \"O\", \"O\", \"O\", \"O\", \"O\", \"B-org\", \"B-org\", \"O\", \"O\", \"O\", \"O\", \"O\",\n",
    "                \"O\", \"B-org\", \"I-org\", \"B-org\", \"I-org\", \"O\", \"O\", \"O\", \"O\", \"O\", \"O\", \"O\",\n",
    "                \"O\", \"O\", \"O\", \"O\", \"O\", \"O\", \"O\", \"O\", \"O\", \"O\", \"B-geo\", \"I-geo\", \"O\"]"
   ]
  },
  {
   "cell_type": "code",
   "execution_count": 13,
   "metadata": {},
   "outputs": [
    {
     "name": "stdout",
     "output_type": "stream",
     "text": [
      "           precision    recall  f1-score   support\n",
      "\n",
      "      org       0.00      0.00      0.00         2\n",
      "      geo       1.00      1.00      1.00         1\n",
      "      per       1.00      1.00      1.00         1\n",
      "\n",
      "micro avg       0.33      0.50      0.40         4\n",
      "macro avg       0.50      0.50      0.50         4\n",
      "\n"
     ]
    }
   ],
   "source": [
    "print(classification_report(labels_bio, pred_smarter))"
   ]
  },
  {
   "cell_type": "code",
   "execution_count": null,
   "metadata": {},
   "outputs": [],
   "source": []
  }
 ],
 "metadata": {
  "kernelspec": {
   "display_name": "Python 3",
   "language": "python",
   "name": "python3"
  },
  "language_info": {
   "codemirror_mode": {
    "name": "ipython",
    "version": 3
   },
   "file_extension": ".py",
   "mimetype": "text/x-python",
   "name": "python",
   "nbconvert_exporter": "python",
   "pygments_lexer": "ipython3",
   "version": "3.6.8"
  }
 },
 "nbformat": 4,
 "nbformat_minor": 2
}

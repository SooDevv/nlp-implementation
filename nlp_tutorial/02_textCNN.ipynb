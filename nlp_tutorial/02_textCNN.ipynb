{
 "cells": [
  {
   "cell_type": "code",
   "execution_count": 31,
   "metadata": {},
   "outputs": [],
   "source": [
    "import numpy as np\n",
    "import torch\n",
    "import torch.nn as nn\n",
    "import torch.optim as optim\n",
    "from torch.autograd import Variable\n",
    "import torch.nn.functional as F\n",
    "import torchsummary"
   ]
  },
  {
   "cell_type": "code",
   "execution_count": 2,
   "metadata": {},
   "outputs": [],
   "source": [
    "dtype = torch.FloatTensor"
   ]
  },
  {
   "cell_type": "code",
   "execution_count": 3,
   "metadata": {},
   "outputs": [],
   "source": [
    "# Text-CNN Parameters\n",
    "embedding_size = 2 # n-gram\n",
    "sequence_length = 3 \n",
    "num_classes = 2\n",
    "filter_sizes = [2, 2, 2] # n-gram window\n",
    "num_filters = 3"
   ]
  },
  {
   "cell_type": "code",
   "execution_count": 4,
   "metadata": {},
   "outputs": [],
   "source": [
    "# words sentences (sequence_length=3)\n",
    "sentences = [\n",
    "    \"i love you\",\n",
    "    \"he loves me\",\n",
    "    \"she likes baseball\",\n",
    "    \"i hate you\",\n",
    "    \"sorry for that\",\n",
    "    \"this is awful\"\n",
    "]\n",
    "\n",
    "labels = [1, 1, 1, 0, 0, 0]"
   ]
  },
  {
   "cell_type": "code",
   "execution_count": 7,
   "metadata": {},
   "outputs": [
    {
     "name": "stdout",
     "output_type": "stream",
     "text": [
      "CPU times: user 5 µs, sys: 0 ns, total: 5 µs\n",
      "Wall time: 6.91 µs\n"
     ]
    }
   ],
   "source": [
    "%%time\n",
    "word_list = \" \".join(sentences).split()"
   ]
  },
  {
   "cell_type": "code",
   "execution_count": 10,
   "metadata": {},
   "outputs": [],
   "source": [
    "word_list = list(set(word_list))"
   ]
  },
  {
   "cell_type": "code",
   "execution_count": 12,
   "metadata": {},
   "outputs": [
    {
     "data": {
      "text/plain": [
       "16"
      ]
     },
     "execution_count": 12,
     "metadata": {},
     "output_type": "execute_result"
    }
   ],
   "source": [
    "word2idx = {w: i for i, w in enumerate(word_list)}\n",
    "vocab_size = len(word2idx); vocab_size"
   ]
  },
  {
   "cell_type": "code",
   "execution_count": 20,
   "metadata": {},
   "outputs": [],
   "source": [
    "inputs = []\n",
    "for s in sentences:\n",
    "    inputs.append(np.asarray([word2idx[word] for word in s.split()]))"
   ]
  },
  {
   "cell_type": "code",
   "execution_count": 22,
   "metadata": {},
   "outputs": [],
   "source": [
    "targets = []\n",
    "for out in labels:\n",
    "    targets.append(out) # to using Torch Softmax Loss Function"
   ]
  },
  {
   "cell_type": "code",
   "execution_count": 24,
   "metadata": {},
   "outputs": [],
   "source": [
    "input_batch = Variable(torch.LongTensor(inputs))\n",
    "target_batch = Variable(torch.LongTensor(targets))"
   ]
  },
  {
   "cell_type": "code",
   "execution_count": 28,
   "metadata": {},
   "outputs": [
    {
     "data": {
      "text/plain": [
       "tensor([[12,  5,  2],\n",
       "        [ 6,  1,  9],\n",
       "        [ 3, 15, 10],\n",
       "        [12, 11,  2],\n",
       "        [ 8, 14, 13],\n",
       "        [ 0,  4,  7]])"
      ]
     },
     "execution_count": 28,
     "metadata": {},
     "output_type": "execute_result"
    }
   ],
   "source": [
    "input_batch"
   ]
  },
  {
   "cell_type": "code",
   "execution_count": 26,
   "metadata": {},
   "outputs": [
    {
     "data": {
      "text/plain": [
       "tensor([1, 1, 1, 0, 0, 0])"
      ]
     },
     "execution_count": 26,
     "metadata": {},
     "output_type": "execute_result"
    }
   ],
   "source": [
    "target_batch"
   ]
  },
  {
   "cell_type": "code",
   "execution_count": 54,
   "metadata": {},
   "outputs": [],
   "source": [
    "# Text CNN module\n",
    "class TextCNN(nn.Module):\n",
    "    def __init__(self):\n",
    "        super(TextCNN, self).__init__()\n",
    "        \n",
    "        self.num_filters_total = num_filters * len(filter_sizes)\n",
    "        self.embedding = nn.Parameter(torch.empty(vocab_size, embedding_size).uniform_(-1, 1)).type(dtype) #embedding matrix\n",
    "        self.Weight = nn.Parameter(torch.empty(self.num_filters_total, num_classes).uniform_(-1, 1)).type(dtype)\n",
    "        self.bias = nn.Parameter(0.1 * torch.ones([num_classes])).type(dtype)\n",
    "        \n",
    "    def forward(self, X):\n",
    "        embedded_chars = self.embedding[X] # [batch_size, ]\n",
    "        embedded_chars = embedded_chars.unsqueeze(1) # add channel, [batch, channel(=1), sequence_length, embedding_size]\n",
    "        \n",
    "        pooled_outputs = []\n",
    "        for filter_size in filter_sizes: # [2,2,2]\n",
    "            # conv: [input_channel(1), output_channel(3), (height, width), bias option]\n",
    "            conv = nn.Conv2d(1, num_filters, (filter_size, embedding_size), bias=True)(embedded_chars)\n",
    "            h = F.relu(conv)\n",
    "            # max_pool : ((filter_height, filter_width))\n",
    "            max_pool = nn.MaxPool2d((sequence_length - filter_size + 1, 1))\n",
    "            # pooled = [batch_size(6), output_height(1), output_width(1), output_channel(3)*3]\n",
    "            pooled = max_pool(h).permute(0, 3, 2, 1)\n",
    "            pooled_outputs.append(pooled)\n",
    "        \n",
    "        h_pool = torch.cat(pooled_outputs, len(filter_sizes)) # [batch_size(=6), output_height(=1), output_width(=1), output_channel(=3) * 3]\n",
    "        h_pool_flat = torch.reshape(h_pool, [-1, self.num_filters_total]) # [batch_size(=6), output_height * output_width * (output_channel * 3)]\n",
    "\n",
    "        model = torch.mm(h_pool_flat, self.Weight) + self.bias # [batch_size, num_classes]\n",
    "        return model"
   ]
  },
  {
   "cell_type": "code",
   "execution_count": 62,
   "metadata": {},
   "outputs": [],
   "source": [
    "model = TextCNN()"
   ]
  },
  {
   "cell_type": "code",
   "execution_count": 63,
   "metadata": {},
   "outputs": [],
   "source": [
    "criterion = nn.CrossEntropyLoss()\n",
    "optimizer = optim.Adam(model.parameters(), lr=0.001)"
   ]
  },
  {
   "cell_type": "code",
   "execution_count": 64,
   "metadata": {},
   "outputs": [
    {
     "name": "stdout",
     "output_type": "stream",
     "text": [
      "Epoch:  0500 loss: 0.601695\n",
      "Epoch:  1000 loss: 0.499576\n",
      "Epoch:  1500 loss: 0.291872\n",
      "Epoch:  2000 loss: 0.172124\n",
      "Epoch:  2500 loss: 0.090380\n",
      "Epoch:  3000 loss: 0.117862\n",
      "Epoch:  3500 loss: 0.110925\n",
      "Epoch:  4000 loss: 0.054028\n",
      "Epoch:  4500 loss: 0.071319\n",
      "Epoch:  5000 loss: 0.013442\n"
     ]
    }
   ],
   "source": [
    "# Training\n",
    "for epoch in range(5000):\n",
    "    optimizer.zero_grad()\n",
    "    output = model(input_batch)\n",
    "    \n",
    "    # output: [batch_size, num_classes], target_batch: [batch_size] (LongTensor, not one-hot)\n",
    "    loss = criterion(output, target_batch)\n",
    "    if (epoch+1) % 500 == 0:\n",
    "        print('Epoch: ', '%04d' % (epoch+1), 'loss: ' '{:.6f}'.format(loss))\n",
    "    loss.backward()\n",
    "    optimizer.step()"
   ]
  },
  {
   "cell_type": "code",
   "execution_count": 66,
   "metadata": {},
   "outputs": [
    {
     "data": {
      "text/plain": [
       "[array([8, 2, 7])]"
      ]
     },
     "execution_count": 66,
     "metadata": {},
     "output_type": "execute_result"
    }
   ],
   "source": [
    "# Test\n",
    "test_text = \"sorry you awful\"\n",
    "tests = [np.asarray([word2idx[word] for word in test_text.split()])]; tests"
   ]
  },
  {
   "cell_type": "code",
   "execution_count": 68,
   "metadata": {},
   "outputs": [
    {
     "data": {
      "text/plain": [
       "torch.Size([1, 3])"
      ]
     },
     "execution_count": 68,
     "metadata": {},
     "output_type": "execute_result"
    }
   ],
   "source": [
    "test_batch = Variable(torch.LongTensor(tests)); test_batch.shape"
   ]
  },
  {
   "cell_type": "code",
   "execution_count": 81,
   "metadata": {},
   "outputs": [],
   "source": [
    "# Predict\n",
    "pred = model(test_batch)\n",
    "pred = pred.data.max(1, keepdim=True)[1]"
   ]
  },
  {
   "cell_type": "code",
   "execution_count": 90,
   "metadata": {},
   "outputs": [
    {
     "name": "stdout",
     "output_type": "stream",
     "text": [
      "[sorry you awful] is bad mean\n"
     ]
    }
   ],
   "source": [
    "mean = \"\"\n",
    "if pred[0][0] == 0:\n",
    "    mean = \" is bad mean\"\n",
    "else:\n",
    "    mean = \" is good mean\"\n",
    "print(f'[{test_text}]' + mean)"
   ]
  },
  {
   "cell_type": "code",
   "execution_count": null,
   "metadata": {},
   "outputs": [],
   "source": []
  }
 ],
 "metadata": {
  "kernelspec": {
   "display_name": "Python 3",
   "language": "python",
   "name": "python3"
  },
  "language_info": {
   "codemirror_mode": {
    "name": "ipython",
    "version": 3
   },
   "file_extension": ".py",
   "mimetype": "text/x-python",
   "name": "python",
   "nbconvert_exporter": "python",
   "pygments_lexer": "ipython3",
   "version": "3.6.8"
  }
 },
 "nbformat": 4,
 "nbformat_minor": 2
}

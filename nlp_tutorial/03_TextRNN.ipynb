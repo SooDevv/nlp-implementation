{
 "cells": [
  {
   "cell_type": "code",
   "execution_count": 1,
   "metadata": {},
   "outputs": [],
   "source": [
    "import numpy as np\n",
    "import torch\n",
    "import torch.nn as nn\n",
    "import torch.optim as optim\n",
    "from torch.autograd import Variable"
   ]
  },
  {
   "cell_type": "code",
   "execution_count": 2,
   "metadata": {},
   "outputs": [],
   "source": [
    "dtype = torch.FloatTensor"
   ]
  },
  {
   "cell_type": "code",
   "execution_count": 3,
   "metadata": {},
   "outputs": [],
   "source": [
    "sentences = [\n",
    "    \"i like dog\",\n",
    "    \"i love coffee\",\n",
    "    \"i hate milk\"\n",
    "]"
   ]
  },
  {
   "cell_type": "code",
   "execution_count": 11,
   "metadata": {},
   "outputs": [
    {
     "data": {
      "text/plain": [
       "7"
      ]
     },
     "execution_count": 11,
     "metadata": {},
     "output_type": "execute_result"
    }
   ],
   "source": [
    "word_list = \" \".join(sentences).split()\n",
    "word_list = list(set(word_list))\n",
    "word2idx = {word: idx for idx, word in enumerate(word_list)}\n",
    "idx2word = {idx: word for idx, word in enumerate(word_list)}\n",
    "n_class = len(word2idx); n_class"
   ]
  },
  {
   "cell_type": "code",
   "execution_count": 12,
   "metadata": {},
   "outputs": [],
   "source": [
    "# TextRNN parameters\n",
    "batch_size = len(sentences)\n",
    "n_step = 2 # number of cells (= number of step)\n",
    "n_hidden = 5 # number of hidden units in one cell"
   ]
  },
  {
   "cell_type": "code",
   "execution_count": 13,
   "metadata": {},
   "outputs": [],
   "source": [
    "def make_batch(sentences):\n",
    "    input_batch = []\n",
    "    target_batch = []\n",
    "    \n",
    "    for sent in sentences:\n",
    "        word = sent.split()\n",
    "        input = [word2idx[token] for token in word[:-1]]\n",
    "        target = word2idx[word[-1]]\n",
    "        \n",
    "        input_batch.append(np.eye(n_class)[input]) # lookup, one-hot\n",
    "        target_batch.append(target)\n",
    "    return input_batch, target_batch"
   ]
  },
  {
   "cell_type": "code",
   "execution_count": 20,
   "metadata": {},
   "outputs": [],
   "source": [
    "# to torch.Tensor\n",
    "input_batch, target_batch = make_batch(sentences)\n",
    "input_batch = Variable(torch.Tensor(input_batch))\n",
    "target_batch = Variable(torch.LongTensor(target_batch))"
   ]
  },
  {
   "cell_type": "code",
   "execution_count": 21,
   "metadata": {},
   "outputs": [],
   "source": [
    "class TextRNN(nn.Module):\n",
    "    def __init__(self):\n",
    "        super(TextRNN, self).__init__()\n",
    "        \n",
    "        self.rnn = nn.RNN(input_size=n_class, hidden_size=n_hidden)\n",
    "        self.W = nn.Parameter(torch.randn([n_hidden, n_class]).type(dtype))\n",
    "        self.b = nn.Parameter(torch.randn([n_class]).type(dtype))\n",
    "        \n",
    "    def forward(self, hidden, X):\n",
    "        X = X.transpose(0, 1) # X: [n_step, batch_size, n_class]\n",
    "        outputs, hidden = self.rnn(X, hidden)\n",
    "        # outputs : [n_step, batch_size, num_directions(=1) * n_hidden]\n",
    "        # hidden : [num_layers(=1) * num_directions(=1), batch_size, n_hidden]\n",
    "        outputs = outputs[-1]\n",
    "        model = torch.mm(outputs, self.W) + self.b # model: [batch_size, n_class]\n",
    "        return model"
   ]
  },
  {
   "cell_type": "code",
   "execution_count": 22,
   "metadata": {},
   "outputs": [],
   "source": [
    "model = TextRNN()"
   ]
  },
  {
   "cell_type": "code",
   "execution_count": 23,
   "metadata": {},
   "outputs": [],
   "source": [
    "criterion = nn.CrossEntropyLoss()\n",
    "optimizer = optim.Adam(model.parameters(), lr=0.001)"
   ]
  },
  {
   "cell_type": "code",
   "execution_count": 24,
   "metadata": {},
   "outputs": [
    {
     "name": "stdout",
     "output_type": "stream",
     "text": [
      "Epoch: 0500 cost = 0.384173\n",
      "Epoch: 1000 cost = 0.077224\n",
      "Epoch: 1500 cost = 0.029627\n",
      "Epoch: 2000 cost = 0.015384\n",
      "Epoch: 2500 cost = 0.009227\n",
      "Epoch: 3000 cost = 0.006000\n",
      "Epoch: 3500 cost = 0.004103\n",
      "Epoch: 4000 cost = 0.002902\n",
      "Epoch: 4500 cost = 0.002100\n",
      "Epoch: 5000 cost = 0.001546\n"
     ]
    }
   ],
   "source": [
    "# Training\n",
    "for epoch in range(5000):\n",
    "    optimizer.zero_grad()\n",
    "    \n",
    "    # hidden : [num_layers * num_directions, batch, hidden_size]\n",
    "    hidden = Variable(torch.zeros(1, batch_size, n_hidden))\n",
    "    # input_batch : [batch_size, n_step, n_class]\n",
    "    output = model(hidden, input_batch)\n",
    "    \n",
    "    # output : [batch_size, n_class], target_batch\" [batch_size] (LongTensor not one-hot)\n",
    "    loss = criterion(output, target_batch)\n",
    "    if (epoch+1) % 500 == 0:\n",
    "        print('Epoch:', '%04d' % (epoch + 1), 'cost =', '{:.6f}'.format(loss))\n",
    "    loss.backward()\n",
    "    optimizer.step()"
   ]
  },
  {
   "cell_type": "code",
   "execution_count": 25,
   "metadata": {},
   "outputs": [],
   "source": [
    "input = [sent.split()[:2] for sent in sentences]"
   ]
  },
  {
   "cell_type": "code",
   "execution_count": null,
   "metadata": {},
   "outputs": [],
   "source": [
    "# Predict\n",
    "hidden = Variable(torch.zeros(1, batch_size, n_hidden))\n",
    "pred = model(hidden, input_batch)"
   ]
  }
 ],
 "metadata": {
  "kernelspec": {
   "display_name": "Python 3",
   "language": "python",
   "name": "python3"
  },
  "language_info": {
   "codemirror_mode": {
    "name": "ipython",
    "version": 3
   },
   "file_extension": ".py",
   "mimetype": "text/x-python",
   "name": "python",
   "nbconvert_exporter": "python",
   "pygments_lexer": "ipython3",
   "version": "3.6.8"
  }
 },
 "nbformat": 4,
 "nbformat_minor": 2
}
